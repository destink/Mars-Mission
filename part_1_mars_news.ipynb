{
 "cells": [
  {
   "cell_type": "markdown",
   "metadata": {},
   "source": [
    "# Module 12 Challenge\n",
    "## Deliverable 1: Scrape Titles and Preview Text from Mars News"
   ]
  },
  {
   "cell_type": "code",
   "execution_count": 43,
   "metadata": {},
   "outputs": [],
   "source": [
    "# Import Splinter and BeautifulSoup\n",
    "import pandas as pd\n",
    "import json\n",
    "from splinter import Browser\n",
    "from bs4 import BeautifulSoup as soup\n",
    "from webdriver_manager.chrome import ChromeDriverManager"
   ]
  },
  {
   "cell_type": "code",
   "execution_count": 44,
   "metadata": {
    "scrolled": true
   },
   "outputs": [
    {
     "name": "stderr",
     "output_type": "stream",
     "text": [
      "C:\\Users\\Destin\\AppData\\Local\\Temp\\ipykernel_15456\\2169647803.py:9: DeprecationWarning: use options instead of chrome_options\n",
      "  browser.driver = Chrome(chrome_options=options)\n"
     ]
    }
   ],
   "source": [
    "from selenium.webdriver import Chrome\n",
    "from selenium.webdriver.chrome.options import Options\n",
    "from splinter.driver.webdriver import BaseWebDriver, WebDriverElement\n",
    "\n",
    "options = Options()\n",
    "options.add_argument('--start-maximized')\n",
    "\n",
    "browser = BaseWebDriver()\n",
    "browser.driver = Chrome(chrome_options=options)"
   ]
  },
  {
   "cell_type": "markdown",
   "metadata": {},
   "source": [
    "### Step 1: Visit the Website\n",
    "\n",
    "1. Use automated browsing to visit the [Mars NASA news site](https://redplanetscience.com). Inspect the page to identify which elements to scrape.\n",
    "\n",
    "      > **Hint** To identify which elements to scrape, you might want to inspect the page by using Chrome DevTools."
   ]
  },
  {
   "cell_type": "code",
   "execution_count": 45,
   "metadata": {},
   "outputs": [],
   "source": [
    "# Visit the Mars NASA news site: https://redplanetscience.com\n",
    "url = \"https://redplanetscience.com\"\n",
    "browser.visit(url)\n",
    "html = browser.html"
   ]
  },
  {
   "cell_type": "markdown",
   "metadata": {},
   "source": [
    "### Step 2: Scrape the Website\n",
    "\n",
    "Create a Beautiful Soup object and use it to extract text elements from the website."
   ]
  },
  {
   "cell_type": "code",
   "execution_count": 46,
   "metadata": {},
   "outputs": [],
   "source": [
    "# Create a Beautiful Soup object\n",
    "html_soup = soup(html, 'html.parser')"
   ]
  },
  {
   "cell_type": "code",
   "execution_count": 47,
   "metadata": {},
   "outputs": [
    {
     "name": "stdout",
     "output_type": "stream",
     "text": [
      "[<div class=\"list_text\">\n",
      "<div class=\"list_date\">January 11, 2023</div>\n",
      "<div class=\"content_title\">The MarCO Mission Comes to an End</div>\n",
      "<div class=\"article_teaser_body\">The pair of briefcase-sized satellites made history when they sailed past Mars in 2019.</div>\n",
      "</div>, <div class=\"list_text\">\n",
      "<div class=\"list_date\">January 10, 2023</div>\n",
      "<div class=\"content_title\">Celebrate Mars Reconnaissance Orbiter's Views From Above</div>\n",
      "<div class=\"article_teaser_body\">Marking its 15th anniversary since launch, one of the oldest spacecraft at the Red Planet has provided glimpses of dust devils, avalanches, and more.</div>\n",
      "</div>, <div class=\"list_text\">\n",
      "<div class=\"list_date\">January 10, 2023</div>\n",
      "<div class=\"content_title\">NASA Invites Students to Name Mars 2020 Rover</div>\n",
      "<div class=\"article_teaser_body\">Through Nov. 1, K-12 students in the U.S. are encouraged to enter an essay contest to name NASA's next Mars rover.</div>\n",
      "</div>, <div class=\"list_text\">\n",
      "<div class=\"list_date\">January 6, 2023</div>\n",
      "<div class=\"content_title\">NASA's MAVEN Maps Winds in the Martian Upper Atmosphere that Mirror the Terrain Below and Gives Clues to Martian Climate</div>\n",
      "<div class=\"article_teaser_body\">Researchers have created the first map of wind circulation in the upper atmosphere of a planet besides Earth, using data from NASA’s MAVEN spacecraft that were collected during the last two years.</div>\n",
      "</div>, <div class=\"list_text\">\n",
      "<div class=\"list_date\">December 30, 2022</div>\n",
      "<div class=\"content_title\">The Man Who Wanted to Fly on Mars</div>\n",
      "<div class=\"article_teaser_body\">The Mars Helicopter is riding to the Red Planet this summer with NASA's Perseverance rover. The helicopter's chief engineer, Bob Balaram, shares the saga of how it came into being.</div>\n",
      "</div>, <div class=\"list_text\">\n",
      "<div class=\"list_date\">December 28, 2022</div>\n",
      "<div class=\"content_title\">NASA's Briefcase-Size MarCO Satellite Picks Up Honors</div>\n",
      "<div class=\"article_teaser_body\">The twin spacecraft, the first of their kind to fly into deep space, earn a Laureate from Aviation Week &amp; Space Technology.</div>\n",
      "</div>, <div class=\"list_text\">\n",
      "<div class=\"list_date\">December 24, 2022</div>\n",
      "<div class=\"content_title\">NASA's Perseverance Rover Bringing 3D-Printed Metal Parts to Mars</div>\n",
      "<div class=\"article_teaser_body\">For hobbyists and makers, 3D printing expands creative possibilities; for specialized engineers, it's also key to next-generation spacecraft design.</div>\n",
      "</div>, <div class=\"list_text\">\n",
      "<div class=\"list_date\">December 23, 2022</div>\n",
      "<div class=\"content_title\">From JPL's Mailroom to Mars and Beyond</div>\n",
      "<div class=\"article_teaser_body\">Bill Allen has thrived as the mechanical systems design lead for three Mars rover missions, but he got his start as a teenager sorting letters for the NASA center.</div>\n",
      "</div>, <div class=\"list_text\">\n",
      "<div class=\"list_date\">December 23, 2022</div>\n",
      "<div class=\"content_title\">NASA's Mars Reconnaissance Orbiter Undergoes Memory Update</div>\n",
      "<div class=\"article_teaser_body\">Other orbiters will continue relaying data from Mars surface missions for a two-week period.</div>\n",
      "</div>, <div class=\"list_text\">\n",
      "<div class=\"list_date\">December 19, 2022</div>\n",
      "<div class=\"content_title\">7 Things to Know About the Mars 2020 Perseverance Rover Mission</div>\n",
      "<div class=\"article_teaser_body\">NASA's next rover to the Red Planet is slated to launch no earlier than July 30. These highlights will get you up to speed on the ambitious mission.</div>\n",
      "</div>, <div class=\"list_text\">\n",
      "<div class=\"list_date\">December 16, 2022</div>\n",
      "<div class=\"content_title\">Heat and Dust Help Launch Martian Water Into Space, Scientists Find</div>\n",
      "<div class=\"article_teaser_body\">Scientists using an instrument aboard NASA’s Mars Atmosphere and Volatile EvolutioN, or MAVEN, spacecraft have discovered that water vapor near the surface of the Red Planet is lofted higher into the atmosphere than anyone expected was possible. </div>\n",
      "</div>, <div class=\"list_text\">\n",
      "<div class=\"list_date\">December 15, 2022</div>\n",
      "<div class=\"content_title\">NASA's Perseverance Rover Will Carry First Spacesuit Materials to Mars</div>\n",
      "<div class=\"article_teaser_body\">In a Q&amp;A, spacesuit designer Amy Ross explains how five samples, including a piece of helmet visor, will be tested aboard the rover, which is targeting a July 30 launch. </div>\n",
      "</div>, <div class=\"list_text\">\n",
      "<div class=\"list_date\">December 13, 2022</div>\n",
      "<div class=\"content_title\">NASA's Perseverance Rover 100 Days Out</div>\n",
      "<div class=\"article_teaser_body\">Mark your calendars: The agency's latest rover has only about 8,640,000 seconds to go before it touches down on the Red Planet, becoming history's next Mars car.</div>\n",
      "</div>, <div class=\"list_text\">\n",
      "<div class=\"list_date\">December 11, 2022</div>\n",
      "<div class=\"content_title\">InSight's 'Mole' Team Peers into the Pit</div>\n",
      "<div class=\"article_teaser_body\">Efforts to save the heat probe continue.</div>\n",
      "</div>, <div class=\"list_text\">\n",
      "<div class=\"list_date\">December 11, 2022</div>\n",
      "<div class=\"content_title\">10.9 Million Names Now Aboard NASA's Perseverance Mars Rover</div>\n",
      "<div class=\"article_teaser_body\">As part of NASA's 'Send Your Name to Mars' campaign, they've been stenciled onto three microchips along with essays from NASA's 'Name the Rover' contest. Next stop: Mars.</div>\n",
      "</div>]\n"
     ]
    }
   ],
   "source": [
    "# Extract all the text elements\n",
    "text = html_soup.find_all('div', class_='list_text')\n",
    "print(text)"
   ]
  },
  {
   "cell_type": "markdown",
   "metadata": {},
   "source": [
    "### Step 3: Store the Results\n",
    "\n",
    "Extract the titles and preview text of the news articles that you scraped. Store the scraping results in Python data structures as follows:\n",
    "\n",
    "* Store each title-and-preview pair in a Python dictionary. And, give each dictionary two keys: `title` and `preview`. An example is the following:\n",
    "\n",
    "  ```python\n",
    "  {'title': \"Mars Rover Begins Mission!\", \n",
    "        'preview': \"NASA's Mars Rover begins a multiyear mission to collect data about the little-explored planet.\"}\n",
    "  ```\n",
    "\n",
    "* Store all the dictionaries in a Python list.\n",
    "\n",
    "* Print the list in your notebook."
   ]
  },
  {
   "cell_type": "code",
   "execution_count": 48,
   "metadata": {},
   "outputs": [],
   "source": [
    "# Create an empty list to store the dictionaries\n",
    "element_list= []"
   ]
  },
  {
   "cell_type": "code",
   "execution_count": 49,
   "metadata": {},
   "outputs": [],
   "source": [
    "# Loop through the text elements\n",
    "for list_text in text:\n",
    "    #print(list_text.text)\n",
    "# # Extract the title and preview text from the elements\n",
    "    title = list_text.find('div', class_='content_title')\n",
    "    preview = list_text.find('div', class_='article_teaser_body')\n",
    "# Store each title and preview pair in a dictionary\n",
    "# Add the dictionary to the list\n",
    "    element_list.append({\n",
    "        \"title\":title.text,\n",
    "        \"preview\":preview.text\n",
    "    })"
   ]
  },
  {
   "cell_type": "code",
   "execution_count": 50,
   "metadata": {},
   "outputs": [
    {
     "name": "stdout",
     "output_type": "stream",
     "text": [
      "[{'title': 'The MarCO Mission Comes to an End', 'preview': 'The pair of briefcase-sized satellites made history when they sailed past Mars in 2019.'}, {'title': \"Celebrate Mars Reconnaissance Orbiter's Views From Above\", 'preview': 'Marking its 15th anniversary since launch, one of the oldest spacecraft at the Red Planet has provided glimpses of dust devils, avalanches, and more.'}, {'title': 'NASA Invites Students to Name Mars 2020 Rover', 'preview': \"Through Nov. 1, K-12 students in the U.S. are encouraged to enter an essay contest to name NASA's next Mars rover.\"}, {'title': \"NASA's MAVEN Maps Winds in the Martian Upper Atmosphere that Mirror the Terrain Below and Gives Clues to Martian Climate\", 'preview': 'Researchers have created the first map of wind circulation in the upper atmosphere of a planet besides Earth, using data from NASA’s MAVEN spacecraft that were collected during the last two years.'}, {'title': 'The Man Who Wanted to Fly on Mars', 'preview': \"The Mars Helicopter is riding to the Red Planet this summer with NASA's Perseverance rover. The helicopter's chief engineer, Bob Balaram, shares the saga of how it came into being.\"}, {'title': \"NASA's Briefcase-Size MarCO Satellite Picks Up Honors\", 'preview': 'The twin spacecraft, the first of their kind to fly into deep space, earn a Laureate from Aviation Week & Space Technology.'}, {'title': \"NASA's Perseverance Rover Bringing 3D-Printed Metal Parts to Mars\", 'preview': \"For hobbyists and makers, 3D printing expands creative possibilities; for specialized engineers, it's also key to next-generation spacecraft design.\"}, {'title': \"From JPL's Mailroom to Mars and Beyond\", 'preview': 'Bill Allen has thrived as the mechanical systems design lead for three Mars rover missions, but he got his start as a teenager sorting letters for the NASA center.'}, {'title': \"NASA's Mars Reconnaissance Orbiter Undergoes Memory Update\", 'preview': 'Other orbiters will continue relaying data from Mars surface missions for a two-week period.'}, {'title': '7 Things to Know About the Mars 2020 Perseverance Rover Mission', 'preview': \"NASA's next rover to the Red Planet is slated to launch no earlier than July 30. These highlights will get you up to speed on the ambitious mission.\"}, {'title': 'Heat and Dust Help Launch Martian Water Into Space, Scientists Find', 'preview': 'Scientists using an instrument aboard NASA’s Mars Atmosphere and Volatile EvolutioN, or MAVEN, spacecraft have discovered that water vapor near the surface of the Red Planet is lofted higher into the atmosphere than anyone expected was possible. '}, {'title': \"NASA's Perseverance Rover Will Carry First Spacesuit Materials to Mars\", 'preview': 'In a Q&A, spacesuit designer Amy Ross explains how five samples, including a piece of helmet visor, will be tested aboard the rover, which is targeting a July 30 launch. '}, {'title': \"NASA's Perseverance Rover 100 Days Out\", 'preview': \"Mark your calendars: The agency's latest rover has only about 8,640,000 seconds to go before it touches down on the Red Planet, becoming history's next Mars car.\"}, {'title': \"InSight's 'Mole' Team Peers into the Pit\", 'preview': 'Efforts to save the heat probe continue.'}, {'title': \"10.9 Million Names Now Aboard NASA's Perseverance Mars Rover\", 'preview': \"As part of NASA's 'Send Your Name to Mars' campaign, they've been stenciled onto three microchips along with essays from NASA's 'Name the Rover' contest. Next stop: Mars.\"}]\n"
     ]
    }
   ],
   "source": [
    "# Print the list to confirm success\n",
    "print(element_list)"
   ]
  },
  {
   "cell_type": "code",
   "execution_count": 51,
   "metadata": {},
   "outputs": [],
   "source": [
    "browser.quit()"
   ]
  },
  {
   "cell_type": "markdown",
   "metadata": {},
   "source": [
    "### (Optional) Step 4: Export the Data\n",
    "\n",
    "Optionally, store the scraped data in a file or database (to ease sharing the data with others). To do so, export the scraped data to either a JSON file or a MongoDB database."
   ]
  },
  {
   "cell_type": "code",
   "execution_count": 52,
   "metadata": {},
   "outputs": [],
   "source": [
    "# Export data to JSON\n",
    "mars_news_df = pd.DataFrame (element_list, columns = [\"title\", \"preview\"])\n",
    "mars_news_df.to_json('mars_news.json')"
   ]
  },
  {
   "cell_type": "code",
   "execution_count": null,
   "metadata": {},
   "outputs": [],
   "source": []
  }
 ],
 "metadata": {
  "kernelspec": {
   "display_name": "Python 3 (ipykernel)",
   "language": "python",
   "name": "python3"
  },
  "language_info": {
   "codemirror_mode": {
    "name": "ipython",
    "version": 3
   },
   "file_extension": ".py",
   "mimetype": "text/x-python",
   "name": "python",
   "nbconvert_exporter": "python",
   "pygments_lexer": "ipython3",
   "version": "3.9.15"
  }
 },
 "nbformat": 4,
 "nbformat_minor": 4
}
